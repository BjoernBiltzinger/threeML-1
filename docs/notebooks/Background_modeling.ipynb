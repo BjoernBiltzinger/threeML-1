{
 "cells": [
  {
   "cell_type": "markdown",
   "metadata": {},
   "source": [
    "# Background Modeling\n",
    "\n",
    "When fitting a spectrum with a background, it is invalid to simply subtract off the background if the background is part of the data's generative model [van Dyk et al. (2001)](http://iopscience.iop.org/article/10.1086/318656/meta). Therefore, we are often left with the task of modeling the statistical process of the background along with our source. \n",
    "\n",
    "In typical spectral modeling, we find a few common cases when background is involved. If we have total counts ($S_i$) in $i^{\\rm th}$ on $N$ bins observed for an exposure of $t_{\\rm s}$ and also a measurement of $B_i$ background counts from looking off source for $t_{\\rm b}$ seconds, we can then suppose a model for the source rate ($m_i$) and background rate ($b_i$).\n",
    "\n",
    "**Poisson source with Poisson background**\n",
    "\n",
    "This is described by a likelihood of the following form:\n",
    "\n",
    "$$ L = \\prod^N_{i=1} \\frac{(t_{\\rm s}(m_i+b_i))^{S_i} e^{-t_{\\rm s}(m_i+b_i)}}{S_i!} \\times \\frac{(t_{\\rm b} b_i)^{B_i} e^{-t_{\\rm b}b_i}}{B_i!}  $$\n",
    "\n",
    "which is a Poisson likelihood for the total model ($m_i +b_i$) conditional on the Poisson distributed background observation. This is the typical case for e.g. aperture x-ray instruments that observe a source region and then a background region. Both observations are Poisson distributed.\n",
    "\n",
    "**Poisson source with Gaussian background**\n",
    "\n",
    "This likelihood is similar, but the conditonal background distribution is described by Gaussian:\n",
    "\n",
    "$$ L = \\prod^N_{i=1} \\frac{(t_{\\rm s}(m_i+b_i))^{S_i} e^{-t_{\\rm s}(m_i+b_i)}}{S_i!} \\times \\frac{1}{\\sigma_{b,i}\\sqrt{2 \\pi}} \\exp \\left[ \\frac{({B_i} - t_{\\rm b} b_i)^2} {2 \\sigma_{b,i}^2} \\right] $$\n",
    "\n",
    "where the $\\sigma_{b,i}$ are the measured errors on $B_i$. This situation occurs e.g. when the background counts are estimated from a fitted model such as time-domain instruments that estimate the background counts from temporal fits to the lightcurve.\n",
    "\n",
    "In 3ML, we can fit a background model along with the the source model which allows for arbitrarily low background counts (in fact zero) in channels. The alternative is to use profile likelihoods where we first differentiate the likelihood with respect to the background model\n",
    "\n",
    "$$ \\frac{ \\partial L}{{\\partial b_i}} = 0$$\n",
    "\n",
    "and solve for the $b_i$ that maximize the likelihood. Both the Poisson and Gaussian background profile likelihoods are described in the [XSPEC statistics guide](https://heasarc.gsfc.nasa.gov/xanadu/xspec/manual/XSappendixStatistics.html). This implicitly yields $N$ parameters to the model thus requiring at least one background count per channel. These profile likelihoods are the default Poisson likelihoods in 3ML when a background model is not used with a **SpectrumLike** (and its children, **DispersionSpectrumLike** and **OGIPLike**) plugin.\n",
    "\n",
    "Let's examine how to handle both cases.\n"
   ]
  },
  {
   "cell_type": "code",
   "execution_count": 2,
   "metadata": {
    "ExecuteTime": {
     "end_time": "2017-08-03T07:25:39.980149Z",
     "start_time": "2017-08-03T07:25:39.974359Z"
    }
   },
   "outputs": [],
   "source": [
    "from threeML import *\n",
    "\n",
    "%matplotlib inline\n",
    "\n",
    "import warnings\n",
    "\n",
    "warnings.simplefilter('ignore')"
   ]
  },
  {
   "cell_type": "markdown",
   "metadata": {},
   "source": [
    "First we will create an observation where we have a simulated broken power law source spectrum along with an observed background spectrum. The background is a powerl law continuum with a Gaussian line."
   ]
  },
  {
   "cell_type": "code",
   "execution_count": 3,
   "metadata": {
    "ExecuteTime": {
     "end_time": "2017-08-03T07:25:43.454606Z",
     "start_time": "2017-08-03T07:25:41.621582Z"
    }
   },
   "outputs": [
    {
     "data": {
      "image/png": "[encoded data removed]",
      "text/plain": [
       "<matplotlib.figure.Figure at 0x1076815d0>"
      ]
     },
     "metadata": {},
     "output_type": "display_data"
    }
   ],
   "source": [
    "\n",
    "# create the simulated observation\n",
    "\n",
    "energies = np.logspace(1,4,151)\n",
    "\n",
    "low_edge = energies[:-1]\n",
    "high_edge = energies[1:]\n",
    "\n",
    "# get a BPL source function\n",
    "source_function = Broken_powerlaw(K=2,xb=300,piv=300, alpha=0., beta=-3.)\n",
    "\n",
    "# power law background function\n",
    "background_function = Powerlaw(K=.5,index=-1.5, piv=100.) + Gaussian(F=50,mu=511,sigma=20)\n",
    "\n",
    "spectrum_generator = SpectrumLike.from_function('fake',\n",
    "                                               source_function=source_function,\n",
    "                                               background_function=background_function,\n",
    "                                               energy_min=low_edge,\n",
    "                                               energy_max=high_edge)\n",
    "\n",
    "\n",
    "spectrum_generator.view_count_spectrum()"
   ]
  },
  {
   "cell_type": "markdown",
   "metadata": {},
   "source": [
    "## Using a profile likelihood\n",
    "\n",
    "We have very few counts counts in some channels (in fact sometimes zero), but let's assume we do not know the model for the background. In this case, we will use the profile Poisson likelihood."
   ]
  },
  {
   "cell_type": "code",
   "execution_count": 5,
   "metadata": {
    "ExecuteTime": {
     "end_time": "2017-08-03T07:26:10.690834Z",
     "start_time": "2017-08-03T07:25:54.543384Z"
    }
   },
   "outputs": [
    {
     "name": "stdout",
     "output_type": "stream",
     "text": [
      "Best fit values:\n",
      "\n"
     ]
    },
    {
     "data": {
      "text/html": [
       "<div>\n",
       "<style>\n",
       "    .dataframe thead tr:only-child th {\n",
       "        text-align: right;\n",
       "    }\n",
       "\n",
       "    .dataframe thead th {\n",
       "        text-align: left;\n",
       "    }\n",
       "\n",
       "    .dataframe tbody tr th {\n",
       "        vertical-align: top;\n",
       "    }\n",
       "</style>\n",
       "<table border=\"1\" class=\"dataframe\">\n",
       "  <thead>\n",
       "    <tr style=\"text-align: right;\">\n",
       "      <th></th>\n",
       "      <th>result</th>\n",
       "      <th>unit</th>\n",
       "    </tr>\n",
       "    <tr>\n",
       "      <th>parameter</th>\n",
       "      <th></th>\n",
       "      <th></th>\n",
       "    </tr>\n",
       "  </thead>\n",
       "  <tbody>\n",
       "    <tr>\n",
       "      <th>source.spectrum.main.Broken_powerlaw.K</th>\n",
       "      <td>2.160 +/- 0.15</td>\n",
       "      <td>1 / (cm2 keV s)</td>\n",
       "    </tr>\n",
       "    <tr>\n",
       "      <th>source.spectrum.main.Broken_powerlaw.xb</th>\n",
       "      <td>(3.000 +/- 0.11) x 10^2</td>\n",
       "      <td>keV</td>\n",
       "    </tr>\n",
       "    <tr>\n",
       "      <th>source.spectrum.main.Broken_powerlaw.alpha</th>\n",
       "      <td>(2.000 +/- 7) x 10^-2</td>\n",
       "      <td></td>\n",
       "    </tr>\n",
       "    <tr>\n",
       "      <th>source.spectrum.main.Broken_powerlaw.beta</th>\n",
       "      <td>-2.970 +/- 0.15</td>\n",
       "      <td></td>\n",
       "    </tr>\n",
       "  </tbody>\n",
       "</table>\n",
       "</div>"
      ],
      "text/plain": [
       "                                                             result  \\\n",
       "parameter                                                             \n",
       "source.spectrum.main.Broken_powerlaw.K               2.160 +/- 0.15   \n",
       "source.spectrum.main.Broken_powerlaw.xb     (3.000 +/- 0.11) x 10^2   \n",
       "source.spectrum.main.Broken_powerlaw.alpha    (2.000 +/- 7) x 10^-2   \n",
       "source.spectrum.main.Broken_powerlaw.beta           -2.970 +/- 0.15   \n",
       "\n",
       "                                                       unit  \n",
       "parameter                                                    \n",
       "source.spectrum.main.Broken_powerlaw.K      1 / (cm2 keV s)  \n",
       "source.spectrum.main.Broken_powerlaw.xb                 keV  \n",
       "source.spectrum.main.Broken_powerlaw.alpha                   \n",
       "source.spectrum.main.Broken_powerlaw.beta                    "
      ]
     },
     "metadata": {},
     "output_type": "display_data"
    },
    {
     "name": "stdout",
     "output_type": "stream",
     "text": [
      "\n",
      "Correlation matrix:\n",
      "\n"
     ]
    },
    {
     "data": {
      "text/html": [
       "<table id=\"table4532201616\">\n",
       "<tr><td>1.00</td><td>-0.63</td><td>0.76</td><td>0.02</td></tr>\n",
       "<tr><td>-0.63</td><td>1.00</td><td>-0.47</td><td>-0.58</td></tr>\n",
       "<tr><td>0.76</td><td>-0.47</td><td>1.00</td><td>0.02</td></tr>\n",
       "<tr><td>0.02</td><td>-0.58</td><td>0.02</td><td>1.00</td></tr>\n",
       "</table>"
      ],
      "text/plain": [
       " 1.00 -0.63  0.76  0.02\n",
       "-0.63  1.00 -0.47 -0.58\n",
       " 0.76 -0.47  1.00  0.02\n",
       " 0.02 -0.58  0.02  1.00"
      ]
     },
     "metadata": {},
     "output_type": "display_data"
    },
    {
     "name": "stdout",
     "output_type": "stream",
     "text": [
      "\n",
      "Values of -log(likelihood) at the minimum:\n",
      "\n"
     ]
    },
    {
     "data": {
      "text/html": [
       "<div>\n",
       "<style>\n",
       "    .dataframe thead tr:only-child th {\n",
       "        text-align: right;\n",
       "    }\n",
       "\n",
       "    .dataframe thead th {\n",
       "        text-align: left;\n",
       "    }\n",
       "\n",
       "    .dataframe tbody tr th {\n",
       "        vertical-align: top;\n",
       "    }\n",
       "</style>\n",
       "<table border=\"1\" class=\"dataframe\">\n",
       "  <thead>\n",
       "    <tr style=\"text-align: right;\">\n",
       "      <th></th>\n",
       "      <th>-log(likelihood)</th>\n",
       "    </tr>\n",
       "  </thead>\n",
       "  <tbody>\n",
       "    <tr>\n",
       "      <th>fake</th>\n",
       "      <td>407.806666</td>\n",
       "    </tr>\n",
       "    <tr>\n",
       "      <th>total</th>\n",
       "      <td>407.806666</td>\n",
       "    </tr>\n",
       "  </tbody>\n",
       "</table>\n",
       "</div>"
      ],
      "text/plain": [
       "       -log(likelihood)\n",
       "fake         407.806666\n",
       "total        407.806666"
      ]
     },
     "metadata": {},
     "output_type": "display_data"
    },
    {
     "name": "stdout",
     "output_type": "stream",
     "text": [
      "\n",
      "Values of statistical measures:\n",
      "\n"
     ]
    },
    {
     "data": {
      "text/html": [
       "<div>\n",
       "<style>\n",
       "    .dataframe thead tr:only-child th {\n",
       "        text-align: right;\n",
       "    }\n",
       "\n",
       "    .dataframe thead th {\n",
       "        text-align: left;\n",
       "    }\n",
       "\n",
       "    .dataframe tbody tr th {\n",
       "        vertical-align: top;\n",
       "    }\n",
       "</style>\n",
       "<table border=\"1\" class=\"dataframe\">\n",
       "  <thead>\n",
       "    <tr style=\"text-align: right;\">\n",
       "      <th></th>\n",
       "      <th>statistical measures</th>\n",
       "    </tr>\n",
       "  </thead>\n",
       "  <tbody>\n",
       "    <tr>\n",
       "      <th>AIC</th>\n",
       "      <td>823.889195</td>\n",
       "    </tr>\n",
       "    <tr>\n",
       "      <th>BIC</th>\n",
       "      <td>835.655874</td>\n",
       "    </tr>\n",
       "  </tbody>\n",
       "</table>\n",
       "</div>"
      ],
      "text/plain": [
       "     statistical measures\n",
       "AIC            823.889195\n",
       "BIC            835.655874"
      ]
     },
     "metadata": {},
     "output_type": "display_data"
    },
    {
     "data": {
      "image/png": "[encoded data removed]",
      "text/plain": [
       "<matplotlib.figure.Figure at 0x10e23e3d0>"
      ]
     },
     "metadata": {},
     "output_type": "display_data"
    }
   ],
   "source": [
    "# instance our source spectrum\n",
    "bpl = Broken_powerlaw(piv=300,xb=500)\n",
    "\n",
    "# instance a point source\n",
    "ra, dec = 0,0\n",
    "ps_src = PointSource('source',ra,dec,spectral_shape=bpl)\n",
    "\n",
    "# instance the likelihood model\n",
    "src_model = Model(ps_src)\n",
    "\n",
    "# pass everything to a joint likelihood object\n",
    "jl_profile = JointLikelihood(src_model,DataList(spectrum_generator))\n",
    "\n",
    "\n",
    "# fit the model\n",
    "_ = jl_profile.fit()\n",
    "\n",
    "# plot the fit in count space\n",
    "_ = spectrum_generator.display_model(step=False) "
   ]
  },
  {
   "cell_type": "markdown",
   "metadata": {
    "ExecuteTime": {
     "end_time": "2017-07-28T18:55:20.978038Z",
     "start_time": "2017-07-28T18:55:12.994464Z"
    }
   },
   "source": [
    "Our fit recovers the simulated parameters. However, we should have binned the spectrum up such that there is at least one background count per spectral bin for the profile to be valid."
   ]
  },
  {
   "cell_type": "code",
   "execution_count": 6,
   "metadata": {
    "ExecuteTime": {
     "end_time": "2017-08-03T07:26:22.728621Z",
     "start_time": "2017-08-03T07:26:14.449550Z"
    }
   },
   "outputs": [
    {
     "name": "stdout",
     "output_type": "stream",
     "text": [
      "Best fit values:\n",
      "\n"
     ]
    },
    {
     "data": {
      "text/html": [
       "<div>\n",
       "<style>\n",
       "    .dataframe thead tr:only-child th {\n",
       "        text-align: right;\n",
       "    }\n",
       "\n",
       "    .dataframe thead th {\n",
       "        text-align: left;\n",
       "    }\n",
       "\n",
       "    .dataframe tbody tr th {\n",
       "        vertical-align: top;\n",
       "    }\n",
       "</style>\n",
       "<table border=\"1\" class=\"dataframe\">\n",
       "  <thead>\n",
       "    <tr style=\"text-align: right;\">\n",
       "      <th></th>\n",
       "      <th>result</th>\n",
       "      <th>unit</th>\n",
       "    </tr>\n",
       "    <tr>\n",
       "      <th>parameter</th>\n",
       "      <th></th>\n",
       "      <th></th>\n",
       "    </tr>\n",
       "  </thead>\n",
       "  <tbody>\n",
       "    <tr>\n",
       "      <th>source.spectrum.main.Broken_powerlaw.K</th>\n",
       "      <td>2.160 +/- 0.17</td>\n",
       "      <td>1 / (cm2 keV s)</td>\n",
       "    </tr>\n",
       "    <tr>\n",
       "      <th>source.spectrum.main.Broken_powerlaw.xb</th>\n",
       "      <td>(3.010 +/- 0.15) x 10^2</td>\n",
       "      <td>keV</td>\n",
       "    </tr>\n",
       "    <tr>\n",
       "      <th>source.spectrum.main.Broken_powerlaw.alpha</th>\n",
       "      <td>(4.000 +/- 8) x 10^-2</td>\n",
       "      <td></td>\n",
       "    </tr>\n",
       "    <tr>\n",
       "      <th>source.spectrum.main.Broken_powerlaw.beta</th>\n",
       "      <td>-3.000 +/- 0.18</td>\n",
       "      <td></td>\n",
       "    </tr>\n",
       "  </tbody>\n",
       "</table>\n",
       "</div>"
      ],
      "text/plain": [
       "                                                             result  \\\n",
       "parameter                                                             \n",
       "source.spectrum.main.Broken_powerlaw.K               2.160 +/- 0.17   \n",
       "source.spectrum.main.Broken_powerlaw.xb     (3.010 +/- 0.15) x 10^2   \n",
       "source.spectrum.main.Broken_powerlaw.alpha    (4.000 +/- 8) x 10^-2   \n",
       "source.spectrum.main.Broken_powerlaw.beta           -3.000 +/- 0.18   \n",
       "\n",
       "                                                       unit  \n",
       "parameter                                                    \n",
       "source.spectrum.main.Broken_powerlaw.K      1 / (cm2 keV s)  \n",
       "source.spectrum.main.Broken_powerlaw.xb                 keV  \n",
       "source.spectrum.main.Broken_powerlaw.alpha                   \n",
       "source.spectrum.main.Broken_powerlaw.beta                    "
      ]
     },
     "metadata": {},
     "output_type": "display_data"
    },
    {
     "name": "stdout",
     "output_type": "stream",
     "text": [
      "\n",
      "Correlation matrix:\n",
      "\n"
     ]
    },
    {
     "data": {
      "text/html": [
       "<table id=\"table4572108752\">\n",
       "<tr><td>1.00</td><td>-0.72</td><td>0.79</td><td>0.21</td></tr>\n",
       "<tr><td>-0.72</td><td>1.00</td><td>-0.56</td><td>-0.69</td></tr>\n",
       "<tr><td>0.79</td><td>-0.56</td><td>1.00</td><td>0.16</td></tr>\n",
       "<tr><td>0.21</td><td>-0.69</td><td>0.16</td><td>1.00</td></tr>\n",
       "</table>"
      ],
      "text/plain": [
       " 1.00 -0.72  0.79  0.21\n",
       "-0.72  1.00 -0.56 -0.69\n",
       " 0.79 -0.56  1.00  0.16\n",
       " 0.21 -0.69  0.16  1.00"
      ]
     },
     "metadata": {},
     "output_type": "display_data"
    },
    {
     "name": "stdout",
     "output_type": "stream",
     "text": [
      "\n",
      "Values of -log(likelihood) at the minimum:\n",
      "\n"
     ]
    },
    {
     "data": {
      "text/html": [
       "<div>\n",
       "<style>\n",
       "    .dataframe thead tr:only-child th {\n",
       "        text-align: right;\n",
       "    }\n",
       "\n",
       "    .dataframe thead th {\n",
       "        text-align: left;\n",
       "    }\n",
       "\n",
       "    .dataframe tbody tr th {\n",
       "        vertical-align: top;\n",
       "    }\n",
       "</style>\n",
       "<table border=\"1\" class=\"dataframe\">\n",
       "  <thead>\n",
       "    <tr style=\"text-align: right;\">\n",
       "      <th></th>\n",
       "      <th>-log(likelihood)</th>\n",
       "    </tr>\n",
       "  </thead>\n",
       "  <tbody>\n",
       "    <tr>\n",
       "      <th>fake</th>\n",
       "      <td>292.519499</td>\n",
       "    </tr>\n",
       "    <tr>\n",
       "      <th>total</th>\n",
       "      <td>292.519499</td>\n",
       "    </tr>\n",
       "  </tbody>\n",
       "</table>\n",
       "</div>"
      ],
      "text/plain": [
       "       -log(likelihood)\n",
       "fake         292.519499\n",
       "total        292.519499"
      ]
     },
     "metadata": {},
     "output_type": "display_data"
    },
    {
     "name": "stdout",
     "output_type": "stream",
     "text": [
      "\n",
      "Values of statistical measures:\n",
      "\n"
     ]
    },
    {
     "data": {
      "text/html": [
       "<div>\n",
       "<style>\n",
       "    .dataframe thead tr:only-child th {\n",
       "        text-align: right;\n",
       "    }\n",
       "\n",
       "    .dataframe thead th {\n",
       "        text-align: left;\n",
       "    }\n",
       "\n",
       "    .dataframe tbody tr th {\n",
       "        vertical-align: top;\n",
       "    }\n",
       "</style>\n",
       "<table border=\"1\" class=\"dataframe\">\n",
       "  <thead>\n",
       "    <tr style=\"text-align: right;\">\n",
       "      <th></th>\n",
       "      <th>statistical measures</th>\n",
       "    </tr>\n",
       "  </thead>\n",
       "  <tbody>\n",
       "    <tr>\n",
       "      <th>AIC</th>\n",
       "      <td>593.314859</td>\n",
       "    </tr>\n",
       "    <tr>\n",
       "      <th>BIC</th>\n",
       "      <td>605.081539</td>\n",
       "    </tr>\n",
       "  </tbody>\n",
       "</table>\n",
       "</div>"
      ],
      "text/plain": [
       "     statistical measures\n",
       "AIC            593.314859\n",
       "BIC            605.081539"
      ]
     },
     "metadata": {},
     "output_type": "display_data"
    },
    {
     "data": {
      "image/png": "[encoded data removed]",
      "text/plain": [
       "<matplotlib.figure.Figure at 0x1107fd4d0>"
      ]
     },
     "metadata": {},
     "output_type": "display_data"
    },
    {
     "data": {
      "image/png": "[encoded data removed]",
      "text/plain": [
       "<matplotlib.figure.Figure at 0x11095d190>"
      ]
     },
     "metadata": {},
     "output_type": "display_data"
    }
   ],
   "source": [
    "spectrum_generator.rebin_on_background(1)\n",
    "\n",
    "spectrum_generator.view_count_spectrum()\n",
    "\n",
    "_ = jl_profile.fit()\n",
    "\n",
    "_ = spectrum_generator.display_model(step=False) "
   ]
  },
  {
   "cell_type": "markdown",
   "metadata": {},
   "source": [
    "## Modeling the background\n",
    "\n",
    "Now let's try to model the background assuming we know that the background is a power law with a Gaussian line. We can extract a background plugin from the data by passing the original plugin to a classmethod of spectrum like."
   ]
  },
  {
   "cell_type": "code",
   "execution_count": 7,
   "metadata": {
    "ExecuteTime": {
     "end_time": "2017-08-03T07:26:46.655264Z",
     "start_time": "2017-08-03T07:26:46.644410Z"
    }
   },
   "outputs": [
    {
     "name": "stdout",
     "output_type": "stream",
     "text": [
      "Auto-probed noise models:\n",
      "- observation: poisson\n",
      "- background: None\n"
     ]
    }
   ],
   "source": [
    "# extract the background from the spectrum plugin.\n",
    "# This works for OGIPLike plugins as well, though we could easily also just read \n",
    "# in a bakcground PHA\n",
    "background_plugin = SpectrumLike.from_background('bkg',spectrum_generator)"
   ]
  },
  {
   "cell_type": "markdown",
   "metadata": {},
   "source": [
    "This constructs a new plugin with only the observed background so that we can first model it."
   ]
  },
  {
   "cell_type": "code",
   "execution_count": 8,
   "metadata": {
    "ExecuteTime": {
     "end_time": "2017-08-03T07:26:49.969299Z",
     "start_time": "2017-08-03T07:26:48.634395Z"
    }
   },
   "outputs": [
    {
     "data": {
      "image/png": "[encoded data removed]",
      "text/plain": [
       "<matplotlib.figure.Figure at 0x1107fd690>"
      ]
     },
     "metadata": {},
     "output_type": "display_data"
    }
   ],
   "source": [
    "background_plugin.view_count_spectrum()"
   ]
  },
  {
   "cell_type": "markdown",
   "metadata": {},
   "source": [
    "We now construct our background model and fit it to the data. Let's assume we know that the line occurs at 511 keV, but we are unsure of its strength an width. We do not need to bin the data up because we are using a simple Poisson likelihood which is valid even when we have zero counts [Cash (1979)](http://adsabs.harvard.edu/abs/1979ApJ...228..939C)."
   ]
  },
  {
   "cell_type": "code",
   "execution_count": 10,
   "metadata": {
    "ExecuteTime": {
     "end_time": "2017-08-03T07:27:06.311504Z",
     "start_time": "2017-08-03T07:26:56.654753Z"
    }
   },
   "outputs": [
    {
     "name": "stdout",
     "output_type": "stream",
     "text": [
      "Best fit values:\n",
      "\n"
     ]
    },
    {
     "data": {
      "text/html": [
       "<div>\n",
       "<style>\n",
       "    .dataframe thead tr:only-child th {\n",
       "        text-align: right;\n",
       "    }\n",
       "\n",
       "    .dataframe thead th {\n",
       "        text-align: left;\n",
       "    }\n",
       "\n",
       "    .dataframe tbody tr th {\n",
       "        vertical-align: top;\n",
       "    }\n",
       "</style>\n",
       "<table border=\"1\" class=\"dataframe\">\n",
       "  <thead>\n",
       "    <tr style=\"text-align: right;\">\n",
       "      <th></th>\n",
       "      <th>result</th>\n",
       "      <th>unit</th>\n",
       "    </tr>\n",
       "    <tr>\n",
       "      <th>parameter</th>\n",
       "      <th></th>\n",
       "      <th></th>\n",
       "    </tr>\n",
       "  </thead>\n",
       "  <tbody>\n",
       "    <tr>\n",
       "      <th>bkg.spectrum.main.composite.K_1</th>\n",
       "      <td>(2.68 -0.21 +0.23) x 10^-1</td>\n",
       "      <td>1 / (cm2 keV s)</td>\n",
       "    </tr>\n",
       "    <tr>\n",
       "      <th>bkg.spectrum.main.composite.index_1</th>\n",
       "      <td>-1.380 +/- 0.05</td>\n",
       "      <td></td>\n",
       "    </tr>\n",
       "    <tr>\n",
       "      <th>bkg.spectrum.main.composite.F_2</th>\n",
       "      <td>(1.600 +/- 0.4) x 10</td>\n",
       "      <td>1 / (cm2 s)</td>\n",
       "    </tr>\n",
       "    <tr>\n",
       "      <th>bkg.spectrum.main.composite.sigma_2</th>\n",
       "      <td>(1.330 +/- 0.33) x 10</td>\n",
       "      <td>keV</td>\n",
       "    </tr>\n",
       "  </tbody>\n",
       "</table>\n",
       "</div>"
      ],
      "text/plain": [
       "                                                         result  \\\n",
       "parameter                                                         \n",
       "bkg.spectrum.main.composite.K_1      (2.68 -0.21 +0.23) x 10^-1   \n",
       "bkg.spectrum.main.composite.index_1             -1.380 +/- 0.05   \n",
       "bkg.spectrum.main.composite.F_2            (1.600 +/- 0.4) x 10   \n",
       "bkg.spectrum.main.composite.sigma_2       (1.330 +/- 0.33) x 10   \n",
       "\n",
       "                                                unit  \n",
       "parameter                                             \n",
       "bkg.spectrum.main.composite.K_1      1 / (cm2 keV s)  \n",
       "bkg.spectrum.main.composite.index_1                   \n",
       "bkg.spectrum.main.composite.F_2          1 / (cm2 s)  \n",
       "bkg.spectrum.main.composite.sigma_2              keV  "
      ]
     },
     "metadata": {},
     "output_type": "display_data"
    },
    {
     "name": "stdout",
     "output_type": "stream",
     "text": [
      "\n",
      "Correlation matrix:\n",
      "\n"
     ]
    },
    {
     "data": {
      "text/html": [
       "<table id=\"table4582922128\">\n",
       "<tr><td>1.00</td><td>0.14</td><td>-0.05</td><td>-0.04</td></tr>\n",
       "<tr><td>0.14</td><td>1.00</td><td>-0.05</td><td>-0.04</td></tr>\n",
       "<tr><td>-0.05</td><td>-0.05</td><td>1.00</td><td>0.11</td></tr>\n",
       "<tr><td>-0.04</td><td>-0.04</td><td>0.11</td><td>1.00</td></tr>\n",
       "</table>"
      ],
      "text/plain": [
       " 1.00  0.14 -0.05 -0.04\n",
       " 0.14  1.00 -0.05 -0.04\n",
       "-0.05 -0.05  1.00  0.11\n",
       "-0.04 -0.04  0.11  1.00"
      ]
     },
     "metadata": {},
     "output_type": "display_data"
    },
    {
     "name": "stdout",
     "output_type": "stream",
     "text": [
      "\n",
      "Values of -log(likelihood) at the minimum:\n",
      "\n"
     ]
    },
    {
     "data": {
      "text/html": [
       "<div>\n",
       "<style>\n",
       "    .dataframe thead tr:only-child th {\n",
       "        text-align: right;\n",
       "    }\n",
       "\n",
       "    .dataframe thead th {\n",
       "        text-align: left;\n",
       "    }\n",
       "\n",
       "    .dataframe tbody tr th {\n",
       "        vertical-align: top;\n",
       "    }\n",
       "</style>\n",
       "<table border=\"1\" class=\"dataframe\">\n",
       "  <thead>\n",
       "    <tr style=\"text-align: right;\">\n",
       "      <th></th>\n",
       "      <th>-log(likelihood)</th>\n",
       "    </tr>\n",
       "  </thead>\n",
       "  <tbody>\n",
       "    <tr>\n",
       "      <th>bkg</th>\n",
       "      <td>193.829116</td>\n",
       "    </tr>\n",
       "    <tr>\n",
       "      <th>total</th>\n",
       "      <td>193.829116</td>\n",
       "    </tr>\n",
       "  </tbody>\n",
       "</table>\n",
       "</div>"
      ],
      "text/plain": [
       "       -log(likelihood)\n",
       "bkg          193.829116\n",
       "total        193.829116"
      ]
     },
     "metadata": {},
     "output_type": "display_data"
    },
    {
     "name": "stdout",
     "output_type": "stream",
     "text": [
      "\n",
      "Values of statistical measures:\n",
      "\n"
     ]
    },
    {
     "data": {
      "text/html": [
       "<div>\n",
       "<style>\n",
       "    .dataframe thead tr:only-child th {\n",
       "        text-align: right;\n",
       "    }\n",
       "\n",
       "    .dataframe thead th {\n",
       "        text-align: left;\n",
       "    }\n",
       "\n",
       "    .dataframe tbody tr th {\n",
       "        vertical-align: top;\n",
       "    }\n",
       "</style>\n",
       "<table border=\"1\" class=\"dataframe\">\n",
       "  <thead>\n",
       "    <tr style=\"text-align: right;\">\n",
       "      <th></th>\n",
       "      <th>statistical measures</th>\n",
       "    </tr>\n",
       "  </thead>\n",
       "  <tbody>\n",
       "    <tr>\n",
       "      <th>AIC</th>\n",
       "      <td>395.934094</td>\n",
       "    </tr>\n",
       "    <tr>\n",
       "      <th>BIC</th>\n",
       "      <td>407.700773</td>\n",
       "    </tr>\n",
       "  </tbody>\n",
       "</table>\n",
       "</div>"
      ],
      "text/plain": [
       "     statistical measures\n",
       "AIC            395.934094\n",
       "BIC            407.700773"
      ]
     },
     "metadata": {},
     "output_type": "display_data"
    },
    {
     "data": {
      "image/png": "[encoded data removed]",
      "text/plain": [
       "<matplotlib.figure.Figure at 0x1111f3990>"
      ]
     },
     "metadata": {},
     "output_type": "display_data"
    }
   ],
   "source": [
    "# instance the spectrum setting the line's location to 511\n",
    "bkg_spectrum = Powerlaw(piv=100) +  Gaussian(F=50,mu=511)\n",
    "\n",
    "# setup model parameters\n",
    "# fix the line's location\n",
    "bkg_spectrum.mu_2.fix = True\n",
    "\n",
    "# nice parameter bounds\n",
    "bkg_spectrum.K_1.bounds = (1E-4, 10)\n",
    "bkg_spectrum.F_2.bounds = (0., 1000)\n",
    "bkg_spectrum.sigma_2.bounds = (2,30)\n",
    "\n",
    "ps_bkg = PointSource('bkg',0,0,spectral_shape=bkg_spectrum)\n",
    "\n",
    "bkg_model = Model(ps_bkg)\n",
    "\n",
    "\n",
    "jl_bkg = JointLikelihood(bkg_model,DataList(background_plugin))\n",
    "\n",
    "\n",
    "_ = jl_bkg.fit()\n",
    "\n",
    "_ = background_plugin.display_model(step=False, data_color='#1A68F0', model_color='#FF9700')"
   ]
  },
  {
   "cell_type": "markdown",
   "metadata": {
    "ExecuteTime": {
     "end_time": "2017-07-28T23:04:22.090100Z",
     "start_time": "2017-07-28T23:04:22.086588Z"
    }
   },
   "source": [
    "We now have a model and estimate for the background which we can use when fitting with the source spectrum. We now create a new plugin with just the total observation and pass our background plugin as the background argument."
   ]
  },
  {
   "cell_type": "code",
   "execution_count": 11,
   "metadata": {
    "ExecuteTime": {
     "end_time": "2017-08-03T07:27:16.232007Z",
     "start_time": "2017-08-03T07:27:16.223594Z"
    }
   },
   "outputs": [
    {
     "name": "stdout",
     "output_type": "stream",
     "text": [
      "Background modeled from plugin: bkg\n",
      "Auto-probed noise models:\n",
      "- observation: poisson\n",
      "- background: poisson\n"
     ]
    }
   ],
   "source": [
    "modeled_background_plugin = SpectrumLike('full',\n",
    "                                         # here we use the original observation\n",
    "                                         observation=spectrum_generator.observed_spectrum,\n",
    "                                         # we pass the background plugin as the background!\n",
    "                                         background=background_plugin)"
   ]
  },
  {
   "cell_type": "markdown",
   "metadata": {},
   "source": [
    "When we look at out count spectrum now, we will see the *predicted* background, rather than the measured one:"
   ]
  },
  {
   "cell_type": "code",
   "execution_count": 12,
   "metadata": {
    "ExecuteTime": {
     "end_time": "2017-08-03T07:27:20.649860Z",
     "start_time": "2017-08-03T07:27:19.259235Z"
    }
   },
   "outputs": [
    {
     "data": {
      "image/png": "[encoded data removed]",
      "text/plain": [
       "<matplotlib.figure.Figure at 0x11094c290>"
      ]
     },
     "metadata": {},
     "output_type": "display_data"
    }
   ],
   "source": [
    "modeled_background_plugin.view_count_spectrum()"
   ]
  },
  {
   "cell_type": "markdown",
   "metadata": {},
   "source": [
    "Now we simply fit the spectrum as we did in the profiled case. The background plugin's parameters are stored in our new plugin as nuissance parameters:"
   ]
  },
  {
   "cell_type": "code",
   "execution_count": 13,
   "metadata": {
    "ExecuteTime": {
     "end_time": "2017-08-03T07:27:25.110155Z",
     "start_time": "2017-08-03T07:27:25.102978Z"
    }
   },
   "outputs": [
    {
     "data": {
      "text/plain": [
       "OrderedDict([('cons_full', Parameter cons_full = 1.0 []\n",
       "              (min_value = 0.8, max_value = 1.2, delta = 0.05, free = False)),\n",
       "             ('bkg_bkg_position_ra_full', Parameter ra = 0.0 [deg]\n",
       "              (min_value = 0.0, max_value = 360.0, delta = 0.1, free = False)),\n",
       "             ('bkg_bkg_position_dec_full', Parameter dec = 0.0 [deg]\n",
       "              (min_value = -90.0, max_value = 90.0, delta = 0.1, free = False)),\n",
       "             ('bkg_bkg_spectrum_main_composite_K_1_full',\n",
       "              Parameter K_1 = 0.26753658692 [1 / (cm2 keV s)]\n",
       "              (min_value = 0.0001, max_value = 10.0, delta = 0.1, free = True)),\n",
       "             ('bkg_bkg_spectrum_main_composite_piv_1_full',\n",
       "              Parameter piv_1 = 100.0 [keV]\n",
       "              (min_value = None, max_value = None, delta = 0.1, free = False)),\n",
       "             ('bkg_bkg_spectrum_main_composite_index_1_full',\n",
       "              Parameter index_1 = -1.38359519667 []\n",
       "              (min_value = -10.0, max_value = 10.0, delta = 0.2, free = True)),\n",
       "             ('bkg_bkg_spectrum_main_composite_F_2_full',\n",
       "              Parameter F_2 = 16.2043824805 [1 / (cm2 s)]\n",
       "              (min_value = 0.0, max_value = 1000.0, delta = 0.1, free = True)),\n",
       "             ('bkg_bkg_spectrum_main_composite_mu_2_full',\n",
       "              Parameter mu_2 = 511.0 [keV]\n",
       "              (min_value = None, max_value = None, delta = 0.1, free = False)),\n",
       "             ('bkg_bkg_spectrum_main_composite_sigma_2_full',\n",
       "              Parameter sigma_2 = 13.2955129361 [keV]\n",
       "              (min_value = 2.0, max_value = 30.0, delta = 0.1, free = True)),\n",
       "             ('bkg_cons_bkg_full', Parameter cons_bkg = 1.0 []\n",
       "              (min_value = 0.8, max_value = 1.2, delta = 0.05, free = False))])"
      ]
     },
     "execution_count": 13,
     "metadata": {},
     "output_type": "execute_result"
    }
   ],
   "source": [
    "modeled_background_plugin.nuisance_parameters"
   ]
  },
  {
   "cell_type": "markdown",
   "metadata": {},
   "source": [
    "and the fitting engine will use them in the fit. The parameters will still be connected to the background plugin and its model and thus we can free/fix them there as well as set priors on them."
   ]
  },
  {
   "cell_type": "code",
   "execution_count": 15,
   "metadata": {
    "ExecuteTime": {
     "end_time": "2017-08-03T07:28:24.859540Z",
     "start_time": "2017-08-03T07:27:31.293305Z"
    }
   },
   "outputs": [
    {
     "name": "stdout",
     "output_type": "stream",
     "text": [
      "Best fit values:\n",
      "\n"
     ]
    },
    {
     "data": {
      "text/html": [
       "<div>\n",
       "<style>\n",
       "    .dataframe thead tr:only-child th {\n",
       "        text-align: right;\n",
       "    }\n",
       "\n",
       "    .dataframe thead th {\n",
       "        text-align: left;\n",
       "    }\n",
       "\n",
       "    .dataframe tbody tr th {\n",
       "        vertical-align: top;\n",
       "    }\n",
       "</style>\n",
       "<table border=\"1\" class=\"dataframe\">\n",
       "  <thead>\n",
       "    <tr style=\"text-align: right;\">\n",
       "      <th></th>\n",
       "      <th>result</th>\n",
       "      <th>unit</th>\n",
       "    </tr>\n",
       "    <tr>\n",
       "      <th>parameter</th>\n",
       "      <th></th>\n",
       "      <th></th>\n",
       "    </tr>\n",
       "  </thead>\n",
       "  <tbody>\n",
       "    <tr>\n",
       "      <th>source.spectrum.main.Broken_powerlaw.K</th>\n",
       "      <td>2.140 +/- 0.16</td>\n",
       "      <td>1 / (cm2 keV s)</td>\n",
       "    </tr>\n",
       "    <tr>\n",
       "      <th>source.spectrum.main.Broken_powerlaw.xb</th>\n",
       "      <td>(3.010 +/- 0.11) x 10^2</td>\n",
       "      <td>keV</td>\n",
       "    </tr>\n",
       "    <tr>\n",
       "      <th>source.spectrum.main.Broken_powerlaw.alpha</th>\n",
       "      <td>(1.000 +/- 1.2) x 10^-1</td>\n",
       "      <td></td>\n",
       "    </tr>\n",
       "    <tr>\n",
       "      <th>source.spectrum.main.Broken_powerlaw.beta</th>\n",
       "      <td>-3.290 +/- 0.22</td>\n",
       "      <td></td>\n",
       "    </tr>\n",
       "    <tr>\n",
       "      <th>K_1</th>\n",
       "      <td>(4.200 +/- 0.7) x 10^-1</td>\n",
       "      <td>1 / (cm2 keV s)</td>\n",
       "    </tr>\n",
       "    <tr>\n",
       "      <th>index_1</th>\n",
       "      <td>-1.240 +/- 0.05</td>\n",
       "      <td></td>\n",
       "    </tr>\n",
       "    <tr>\n",
       "      <th>F_2</th>\n",
       "      <td>(2.100 +/- 0.9) x 10</td>\n",
       "      <td>1 / (cm2 s)</td>\n",
       "    </tr>\n",
       "    <tr>\n",
       "      <th>sigma_2</th>\n",
       "      <td>(2.400 +/- 1.0) x 10</td>\n",
       "      <td>keV</td>\n",
       "    </tr>\n",
       "  </tbody>\n",
       "</table>\n",
       "</div>"
      ],
      "text/plain": [
       "                                                             result  \\\n",
       "parameter                                                             \n",
       "source.spectrum.main.Broken_powerlaw.K               2.140 +/- 0.16   \n",
       "source.spectrum.main.Broken_powerlaw.xb     (3.010 +/- 0.11) x 10^2   \n",
       "source.spectrum.main.Broken_powerlaw.alpha  (1.000 +/- 1.2) x 10^-1   \n",
       "source.spectrum.main.Broken_powerlaw.beta           -3.290 +/- 0.22   \n",
       "K_1                                         (4.200 +/- 0.7) x 10^-1   \n",
       "index_1                                             -1.240 +/- 0.05   \n",
       "F_2                                            (2.100 +/- 0.9) x 10   \n",
       "sigma_2                                        (2.400 +/- 1.0) x 10   \n",
       "\n",
       "                                                       unit  \n",
       "parameter                                                    \n",
       "source.spectrum.main.Broken_powerlaw.K      1 / (cm2 keV s)  \n",
       "source.spectrum.main.Broken_powerlaw.xb                 keV  \n",
       "source.spectrum.main.Broken_powerlaw.alpha                   \n",
       "source.spectrum.main.Broken_powerlaw.beta                    \n",
       "K_1                                         1 / (cm2 keV s)  \n",
       "index_1                                                      \n",
       "F_2                                             1 / (cm2 s)  \n",
       "sigma_2                                                 keV  "
      ]
     },
     "metadata": {},
     "output_type": "display_data"
    },
    {
     "name": "stdout",
     "output_type": "stream",
     "text": [
      "\n",
      "Correlation matrix:\n",
      "\n"
     ]
    },
    {
     "data": {
      "text/html": [
       "<table id=\"table4570134096\">\n",
       "<tr><td>1.00</td><td>-0.65</td><td>0.73</td><td>-0.00</td><td>0.31</td><td>-0.31</td><td>0.01</td><td>0.00</td></tr>\n",
       "<tr><td>-0.65</td><td>1.00</td><td>-0.46</td><td>-0.49</td><td>-0.16</td><td>0.29</td><td>-0.10</td><td>-0.06</td></tr>\n",
       "<tr><td>0.73</td><td>-0.46</td><td>1.00</td><td>-0.15</td><td>0.72</td><td>-0.45</td><td>0.03</td><td>0.02</td></tr>\n",
       "<tr><td>-0.00</td><td>-0.49</td><td>-0.15</td><td>1.00</td><td>-0.36</td><td>-0.28</td><td>-0.19</td><td>-0.09</td></tr>\n",
       "<tr><td>0.31</td><td>-0.16</td><td>0.72</td><td>-0.36</td><td>1.00</td><td>-0.27</td><td>0.08</td><td>0.04</td></tr>\n",
       "<tr><td>-0.31</td><td>0.29</td><td>-0.45</td><td>-0.28</td><td>-0.27</td><td>1.00</td><td>0.06</td><td>0.03</td></tr>\n",
       "<tr><td>0.01</td><td>-0.10</td><td>0.03</td><td>-0.19</td><td>0.08</td><td>0.06</td><td>1.00</td><td>0.39</td></tr>\n",
       "<tr><td>0.00</td><td>-0.06</td><td>0.02</td><td>-0.09</td><td>0.04</td><td>0.03</td><td>0.39</td><td>1.00</td></tr>\n",
       "</table>"
      ],
      "text/plain": [
       " 1.00 -0.65  0.73 -0.00  0.31 -0.31  0.01  0.00\n",
       "-0.65  1.00 -0.46 -0.49 -0.16  0.29 -0.10 -0.06\n",
       " 0.73 -0.46  1.00 -0.15  0.72 -0.45  0.03  0.02\n",
       "-0.00 -0.49 -0.15  1.00 -0.36 -0.28 -0.19 -0.09\n",
       " 0.31 -0.16  0.72 -0.36  1.00 -0.27  0.08  0.04\n",
       "-0.31  0.29 -0.45 -0.28 -0.27  1.00  0.06  0.03\n",
       " 0.01 -0.10  0.03 -0.19  0.08  0.06  1.00  0.39\n",
       " 0.00 -0.06  0.02 -0.09  0.04  0.03  0.39  1.00"
      ]
     },
     "metadata": {},
     "output_type": "display_data"
    },
    {
     "name": "stdout",
     "output_type": "stream",
     "text": [
      "\n",
      "Values of -log(likelihood) at the minimum:\n",
      "\n"
     ]
    },
    {
     "data": {
      "text/html": [
       "<div>\n",
       "<style>\n",
       "    .dataframe thead tr:only-child th {\n",
       "        text-align: right;\n",
       "    }\n",
       "\n",
       "    .dataframe thead th {\n",
       "        text-align: left;\n",
       "    }\n",
       "\n",
       "    .dataframe tbody tr th {\n",
       "        vertical-align: top;\n",
       "    }\n",
       "</style>\n",
       "<table border=\"1\" class=\"dataframe\">\n",
       "  <thead>\n",
       "    <tr style=\"text-align: right;\">\n",
       "      <th></th>\n",
       "      <th>-log(likelihood)</th>\n",
       "    </tr>\n",
       "  </thead>\n",
       "  <tbody>\n",
       "    <tr>\n",
       "      <th>full</th>\n",
       "      <td>316.010273</td>\n",
       "    </tr>\n",
       "    <tr>\n",
       "      <th>total</th>\n",
       "      <td>316.010273</td>\n",
       "    </tr>\n",
       "  </tbody>\n",
       "</table>\n",
       "</div>"
      ],
      "text/plain": [
       "       -log(likelihood)\n",
       "full         316.010273\n",
       "total        316.010273"
      ]
     },
     "metadata": {},
     "output_type": "display_data"
    },
    {
     "name": "stdout",
     "output_type": "stream",
     "text": [
      "\n",
      "Values of statistical measures:\n",
      "\n"
     ]
    },
    {
     "data": {
      "text/html": [
       "<div>\n",
       "<style>\n",
       "    .dataframe thead tr:only-child th {\n",
       "        text-align: right;\n",
       "    }\n",
       "\n",
       "    .dataframe thead th {\n",
       "        text-align: left;\n",
       "    }\n",
       "\n",
       "    .dataframe tbody tr th {\n",
       "        vertical-align: top;\n",
       "    }\n",
       "</style>\n",
       "<table border=\"1\" class=\"dataframe\">\n",
       "  <thead>\n",
       "    <tr style=\"text-align: right;\">\n",
       "      <th></th>\n",
       "      <th>statistical measures</th>\n",
       "    </tr>\n",
       "  </thead>\n",
       "  <tbody>\n",
       "    <tr>\n",
       "      <th>AIC</th>\n",
       "      <td>649.041822</td>\n",
       "    </tr>\n",
       "    <tr>\n",
       "      <th>BIC</th>\n",
       "      <td>672.105628</td>\n",
       "    </tr>\n",
       "  </tbody>\n",
       "</table>\n",
       "</div>"
      ],
      "text/plain": [
       "     statistical measures\n",
       "AIC            649.041822\n",
       "BIC            672.105628"
      ]
     },
     "metadata": {},
     "output_type": "display_data"
    }
   ],
   "source": [
    "# instance the source model... the background plugin has it's model already specified\n",
    "bpl = Broken_powerlaw(piv=300,xb=500)\n",
    "\n",
    "bpl.K.bounds = (1E-5,1E1)\n",
    "bpl.xb.bounds = (1E1,1E4)\n",
    "\n",
    "ps_src = PointSource('source',0,0,bpl)\n",
    "\n",
    "src_model = Model(ps_src)\n",
    "\n",
    "\n",
    "jl_src = JointLikelihood(src_model,DataList(modeled_background_plugin))\n",
    "\n",
    "_ = jl_src.fit()"
   ]
  },
  {
   "cell_type": "code",
   "execution_count": 16,
   "metadata": {
    "ExecuteTime": {
     "end_time": "2017-08-03T07:28:40.614162Z",
     "start_time": "2017-08-03T07:28:38.232354Z"
    }
   },
   "outputs": [
    {
     "data": {
      "image/png": "[encoded data removed]",
      "text/plain": [
       "<matplotlib.figure.Figure at 0x10edae910>"
      ]
     },
     "metadata": {},
     "output_type": "display_data"
    }
   ],
   "source": [
    "\n",
    "# over plot the joint background and source fits\n",
    "fig = modeled_background_plugin.display_model(step=False)\n",
    "\n",
    "_ = background_plugin.display_model(data_color='#1A68F0', model_color='#FF9700',model_subplot=fig.axes,step=False)"
   ]
  },
  {
   "cell_type": "code",
   "execution_count": null,
   "metadata": {
    "collapsed": true
   },
   "outputs": [],
   "source": []
  }
 ],
 "metadata": {
  "kernelspec": {
   "display_name": "Python 2",
   "language": "python",
   "name": "python2"
  },
  "toc": {
   "colors": {
    "hover_highlight": "#DAA520",
    "navigate_num": "#000000",
    "navigate_text": "#333333",
    "running_highlight": "#FF0000",
    "selected_highlight": "#FFD700",
    "sidebar_border": "#EEEEEE",
    "wrapper_background": "#FFFFFF"
   },
   "moveMenuLeft": true,
   "nav_menu": {
    "height": "70px",
    "width": "254px"
   },
   "navigate_menu": true,
   "number_sections": true,
   "sideBar": true,
   "threshold": 4,
   "toc_cell": false,
   "toc_section_display": "block",
   "toc_window_display": false,
   "widenNotebook": false
  },
  "varInspector": {
   "cols": {
    "lenName": 16,
    "lenType": 16,
    "lenVar": 40
   },
   "kernels_config": {
    "python": {
     "delete_cmd_postfix": "",
     "delete_cmd_prefix": "del ",
     "library": "var_list.py",
     "varRefreshCmd": "print(var_dic_list())"
    },
    "r": {
     "delete_cmd_postfix": ") ",
     "delete_cmd_prefix": "rm(",
     "library": "var_list.r",
     "varRefreshCmd": "cat(var_dic_list()) "
    }
   },
   "types_to_exclude": [
    "module",
    "function",
    "builtin_function_or_method",
    "instance",
    "_Feature"
   ],
   "window_display": false
  }
 },
 "nbformat": 4,
 "nbformat_minor": 2
}
